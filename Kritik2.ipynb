{
 "cells": [
  {
   "cell_type": "code",
   "execution_count": 2,
   "id": "e0e8dab5-9136-4917-a4b7-4e31432e12f4",
   "metadata": {},
   "outputs": [
    {
     "name": "stdout",
     "output_type": "stream",
     "text": [
      "R1 on [0, 1]: 0.2698741375294049\n",
      "R2 on on [0, 1]: 0\n",
      "R3 on [3, 4]: 3.141592653642874\n",
      "R4 on [5, 7] None\n"
     ]
    }
   ],
   "source": [
    "import numpy as np\n",
    "\n",
    "def roots(f, a, b, tol=1e-10, maxit=1000):\n",
    "   \n",
    "    if f(a) == 0:\n",
    "        return a\n",
    "    if f(b) == 0:\n",
    "        return b\n",
    "    \n",
    "    if f(a) * f(b) >= 0:\n",
    "        return None\n",
    "\n",
    "    i = 0\n",
    "    while (b - a) / 2 > tol and i < maxit:\n",
    "        c = (a + b) / 2\n",
    "        if f(c) == 0 or (b - a) / 2 < tol:\n",
    "            return c\n",
    "        i += 1\n",
    "        if f(a) * f(c) < 0:\n",
    "            b = c\n",
    "        else:\n",
    "            a = c\n",
    "    return (a + b) / 2\n",
    "\n",
    "\n",
    "def f1(x):\n",
    "    return np.exp(x) + np.log(x)\n",
    "\n",
    "def f2(x):\n",
    "    return np.arctan(x) - x**2\n",
    "\n",
    "def f3(x):\n",
    "    return np.sin(x) / np.log(x)\n",
    "\n",
    "def f4(x):\n",
    "    return np.log(np.cos(x))\n",
    "\n",
    "root1 = roots(f1, 0.1, 1)  \n",
    "root2 = roots(f2, 0, 2)\n",
    "root3 = roots(f3, 3, 4)\n",
    "root4 = roots(f4, 5, 7)\n",
    "\n",
    "print(\"R1 on [0, 1]:\", root1)\n",
    "print(\"R2 on on [0, 1]:\", root2)  \n",
    "print(\"R3 on [3, 4]:\", root3)\n",
    "print(\"R4 on [5, 7]\", root4)"
   ]
  },
  {
   "cell_type": "code",
   "execution_count": null,
   "id": "ec518d43-a6a1-43d0-8620-ad6580b1dfe7",
   "metadata": {},
   "outputs": [],
   "source": []
  }
 ],
 "metadata": {
  "kernelspec": {
   "display_name": "Python 3 (ipykernel)",
   "language": "python",
   "name": "python3"
  },
  "language_info": {
   "codemirror_mode": {
    "name": "ipython",
    "version": 3
   },
   "file_extension": ".py",
   "mimetype": "text/x-python",
   "name": "python",
   "nbconvert_exporter": "python",
   "pygments_lexer": "ipython3",
   "version": "3.11.9"
  }
 },
 "nbformat": 4,
 "nbformat_minor": 5
}
