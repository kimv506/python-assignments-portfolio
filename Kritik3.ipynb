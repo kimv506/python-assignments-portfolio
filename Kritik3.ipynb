{
 "cells": [
  {
   "cell_type": "code",
   "execution_count": 8,
   "id": "47fdd9d6-3dae-49f7-91f3-21fcdaa7ae01",
   "metadata": {},
   "outputs": [
    {
     "name": "stdout",
     "output_type": "stream",
     "text": [
      "(0.6837600000014392, 1.3162400000020718)\n",
      "(0.3778481633986249, 1.1427181633974066)\n",
      "(-0.1448500000000041, 0.13817999999999742)\n"
     ]
    }
   ],
   "source": [
    "import numpy as np\n",
    "\n",
    "def quadratic(x):\n",
    "    return x**2\n",
    "\n",
    "def sin(x):\n",
    "    return np.sin(x)\n",
    "\n",
    "def exponential(x):\n",
    "    return np.exp(x)\n",
    "\n",
    "def linapp(f,c,E):\n",
    "    dx=1e-8\n",
    "    d=(f(c+dx)-f(c-dx))/(2*dx)\n",
    "\n",
    "    x1=c\n",
    "    x2=c\n",
    "\n",
    "    error1=abs(f(x1)-f(c)-(d*(x1-c)))\n",
    "    error2=abs(f(x2)-f(c)-(d*(x2-c)))\n",
    "\n",
    "    while error1<E:\n",
    "        error1=abs(f(x1)-f(c)-(d*(x1-c)))\n",
    "        x1-=1e-5\n",
    "\n",
    "    while error2<E:\n",
    "        error2=abs(f(x2)-f(c)-(d*(x2-c)))\n",
    "        x2+=1e-5\n",
    "\n",
    "\n",
    "    return float(x1), float(x2)\n",
    "\n",
    "print(linapp(quadratic,1,0.1))\n",
    "print(linapp(sin,np.pi/4,0.05))\n",
    "print(linapp(exponential,0,0.01))"
   ]
  },
  {
   "cell_type": "code",
   "execution_count": null,
   "id": "05c0de92-c2ab-48ee-a429-fcc8658c4350",
   "metadata": {},
   "outputs": [],
   "source": []
  }
 ],
 "metadata": {
  "kernelspec": {
   "display_name": "Python 3 (ipykernel)",
   "language": "python",
   "name": "python3"
  },
  "language_info": {
   "codemirror_mode": {
    "name": "ipython",
    "version": 3
   },
   "file_extension": ".py",
   "mimetype": "text/x-python",
   "name": "python",
   "nbconvert_exporter": "python",
   "pygments_lexer": "ipython3",
   "version": "3.11.9"
  }
 },
 "nbformat": 4,
 "nbformat_minor": 5
}
