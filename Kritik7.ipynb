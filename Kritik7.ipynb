{
 "cells": [
  {
   "cell_type": "code",
   "execution_count": 14,
   "id": "46c88736-f2e2-4b38-8859-4e6d8dbd6c69",
   "metadata": {},
   "outputs": [
    {
     "name": "stdout",
     "output_type": "stream",
     "text": [
      "Sample Mean: 82.382\n",
      "Sample Standard Deviation: 10.193467189005581\n",
      "t0: 2.290087686017293\n",
      "t*: 2.2522252225222523\n"
     ]
    }
   ],
   "source": [
    "import numpy as np\n",
    "from scipy.special import gamma\n",
    "\n",
    "# (i) Compute mean and standard deviation manually\n",
    "def compute_mean_std(data):\n",
    "    n = len(data)\n",
    "    mean = sum(data) / n\n",
    "    variance = sum((x - mean) ** 2 for x in data) / (n - 1)\n",
    "    std_dev = variance ** 0.5\n",
    "    return mean, std_dev\n",
    "\n",
    "# (ii) Compute t0\n",
    "def compute_t0(mean, std_dev, mu0, n):\n",
    "    return (mean - mu0) / (std_dev / (n ** 0.5))\n",
    "\n",
    "# (iii) Compute t* using numerical integration\n",
    "def t_distribution_pdf(x, nu):\n",
    "    coeff = gamma((nu + 1) / 2) / (np.sqrt(nu * np.pi) * gamma(nu / 2))\n",
    "    density = coeff * (1 + x**2 / nu) ** (-0.5 * (nu + 1))\n",
    "    return density\n",
    "\n",
    "def find_t_star(prob, nu, x_start=0, x_end=20, num_points=10000):\n",
    "    x = np.linspace(x_start, x_end, num_points)\n",
    "    y = t_distribution_pdf(x, nu)\n",
    "    cdf = np.cumsum(y) * (x[1] - x[0])\n",
    "    target_half_prob = prob / 2\n",
    "    index = np.where(cdf >= target_half_prob)[0][0]\n",
    "    return x[index]\n",
    "\n",
    "# Given data\n",
    "C = [92.64, 79.00, 84.79, 97.41, 93.68, 65.23, 84.50, 73.49, 73.97, 79.11]\n",
    "mu0 = 75  # National average\n",
    "n = len(C)\n",
    "\n",
    "# Compute mean and standard deviation\n",
    "xbar, STDs = compute_mean_std(C)\n",
    "\n",
    "# Compute t0\n",
    "t0 = compute_t0(xbar, STDs, mu0, n)\n",
    "\n",
    "# Compute t*\n",
    "t_star = find_t_star(0.95, n - 1)\n",
    "\n",
    "# Print results\n",
    "print(f\"Sample Mean: {xbar}\")\n",
    "print(f\"Sample Standard Deviation: {STDs}\")\n",
    "print(f\"t0: {t0}\")\n",
    "print(f\"t*: {t_star}\")"
   ]
  },
  {
   "cell_type": "code",
   "execution_count": 18,
   "id": "aeafb0c0-3f7b-43f8-ba8b-bae024c33c9c",
   "metadata": {},
   "outputs": [
    {
     "name": "stdout",
     "output_type": "stream",
     "text": [
      "True\n"
     ]
    }
   ],
   "source": [
    "def reject_null_hypothesis(t0, t_star):\n",
    "    return abs(t0) > t_star  # True if we reject H0, False otherwise\n",
    "\n",
    "# Example usage\n",
    "t0 = 2.32  \n",
    "t_star = 2.26  \n",
    "\n",
    "print(reject_null_hypothesis(t0, t_star))  # True → Reject H0"
   ]
  },
  {
   "cell_type": "code",
   "execution_count": null,
   "id": "bcdd6f25-b33e-4d3e-9b4a-4485cb6a19b9",
   "metadata": {},
   "outputs": [],
   "source": []
  }
 ],
 "metadata": {
  "kernelspec": {
   "display_name": "Python 3 (ipykernel)",
   "language": "python",
   "name": "python3"
  },
  "language_info": {
   "codemirror_mode": {
    "name": "ipython",
    "version": 3
   },
   "file_extension": ".py",
   "mimetype": "text/x-python",
   "name": "python",
   "nbconvert_exporter": "python",
   "pygments_lexer": "ipython3",
   "version": "3.12.8"
  }
 },
 "nbformat": 4,
 "nbformat_minor": 5
}
